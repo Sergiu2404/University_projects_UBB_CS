{
  "nbformat": 4,
  "nbformat_minor": 0,
  "metadata": {
    "colab": {
      "provenance": []
    },
    "kernelspec": {
      "name": "python3",
      "display_name": "Python 3"
    },
    "language_info": {
      "name": "python"
    }
  },
  "cells": [
    {
      "cell_type": "code",
      "execution_count": 23,
      "metadata": {
        "id": "aNNMaXLCtBGR"
      },
      "outputs": [],
      "source": [
        "import pandas as pd\n",
        "import numpy as np\n",
        "import string\n",
        "import re\n",
        "from sklearn.model_selection import train_test_split\n",
        "from sklearn.metrics import accuracy_score, classification_report\n",
        "from sklearn.feature_extraction.text import TfidfVectorizer\n",
        "from sklearn.linear_model import LogisticRegression"
      ]
    },
    {
      "cell_type": "code",
      "source": [
        "# Load datasets\n",
        "data_fake = pd.read_csv('../Fake.csv')\n",
        "data_true = pd.read_csv('../True.csv')\n",
        "\n",
        "# Add labels: 0 for fake, 1 for real\n",
        "data_fake[\"class\"] = 0\n",
        "data_true[\"class\"] = 1\n",
        "\n",
        "# Reserve last 10 samples from each for manual testing\n",
        "data_fake_manual_testing = data_fake.tail(10)\n",
        "data_true_manual_testing = data_true.tail(10)\n",
        "\n",
        "# Drop those last 10 samples from training data\n",
        "data_fake = data_fake.iloc[:-10]\n",
        "data_true = data_true.iloc[:-10]\n",
        "\n",
        "# Combine the datasets and shuffle\n",
        "data = pd.concat([data_fake, data_true], axis=0).reset_index(drop=True)\n",
        "data = data.sample(frac=1).reset_index(drop=True)  # Shuffle data"
      ],
      "metadata": {
        "id": "gSivw5L4Ef86"
      },
      "execution_count": 24,
      "outputs": []
    },
    {
      "cell_type": "code",
      "source": [
        "# Preprocess text\n",
        "def preprocess_text(text):\n",
        "    text = text.lower()\n",
        "    text = re.sub(r'\\[.*?\\]', '', text)\n",
        "    text = re.sub(r'\\\\W', ' ', text)\n",
        "    text = re.sub(r'https?://\\S+|www\\.\\S+', '', text)\n",
        "    text = re.sub(r'<.*?>+', '', text)\n",
        "    text = re.sub(f'[{re.escape(string.punctuation)}]', '', text)\n",
        "    text = re.sub(r'\\w*\\d\\w*', '', text)\n",
        "    return text\n",
        "\n",
        "data['text'] = data['text'].apply(preprocess_text)\n",
        "\n",
        "# Features and labels\n",
        "x = data['text']\n",
        "y = data['class']"
      ],
      "metadata": {
        "id": "i2m_kDhVEg4v"
      },
      "execution_count": 25,
      "outputs": []
    },
    {
      "cell_type": "code",
      "source": [
        "# Split data into training and test sets\n",
        "x_train, x_test, y_train, y_test = train_test_split(x, y, test_size=0.25, random_state=42)\n",
        "\n",
        "# TF-IDF Vectorization\n",
        "vectorizer = TfidfVectorizer(max_features=5000)\n",
        "xv_train = vectorizer.fit_transform(x_train)\n",
        "xv_test = vectorizer.transform(x_test)\n",
        "\n",
        "# Logistic Regression Model\n",
        "model = LogisticRegression()\n",
        "model.fit(xv_train, y_train)\n",
        "\n",
        "# Predictions and Evaluation\n",
        "y_pred = model.predict(xv_test)\n",
        "print(\"Accuracy:\", accuracy_score(y_test, y_pred))\n",
        "print(\"Classification Report:\\n\", classification_report(y_test, y_pred))"
      ],
      "metadata": {
        "colab": {
          "base_uri": "https://localhost:8080/"
        },
        "id": "Q-KLHUkRDFEu",
        "outputId": "c86801c1-8408-4d59-d1f2-771624289dc0"
      },
      "execution_count": 26,
      "outputs": [
        {
          "output_type": "stream",
          "name": "stdout",
          "text": [
            "Accuracy: 0.9844028520499108\n",
            "Classification Report:\n",
            "               precision    recall  f1-score   support\n",
            "\n",
            "           0       0.99      0.98      0.99      5910\n",
            "           1       0.98      0.99      0.98      5310\n",
            "\n",
            "    accuracy                           0.98     11220\n",
            "   macro avg       0.98      0.98      0.98     11220\n",
            "weighted avg       0.98      0.98      0.98     11220\n",
            "\n"
          ]
        }
      ]
    },
    {
      "cell_type": "code",
      "source": [
        "# Function to test new samples\n",
        "def predict_news(news):\n",
        "    processed_news = preprocess_text(news)\n",
        "    transformed_news = vectorizer.transform([processed_news])\n",
        "    prediction = model.predict(transformed_news)[0]\n",
        "    label = \"Not A Fake News\" if prediction == 1 else \"Fake News\"\n",
        "    return label\n",
        "\n",
        "# Test the function with user input\n",
        "news = input(\"Enter a news text: \")\n",
        "print(\"Prediction:\", predict_news(news))"
      ],
      "metadata": {
        "colab": {
          "base_uri": "https://localhost:8080/"
        },
        "id": "tGYiuv6GC4CS",
        "outputId": "4c139cb2-5735-41a0-8e7e-ca23866b9685"
      },
      "execution_count": 32,
      "outputs": [
        {
          "output_type": "stream",
          "name": "stdout",
          "text": [
            "Enter a news text: When they return from the holidays on Wednesday, lawmakers will begin trying to pass a federal budget in a fight likely to be linked to other issues, such as immigration policy, even as the November congressional election campaigns approach in which Republicans will seek to keep control of Congress. President Donald Trump and his Republicans want a big budget increase in military spending, while Democrats also want proportional increases for non-defense.\n",
            "Prediction: Not A Fake News\n"
          ]
        }
      ]
    },
    {
      "cell_type": "code",
      "source": [],
      "metadata": {
        "id": "dMuUuIQxFo_K"
      },
      "execution_count": 31,
      "outputs": []
    }
  ]
}