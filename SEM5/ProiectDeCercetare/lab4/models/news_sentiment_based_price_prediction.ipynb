{
  "nbformat": 4,
  "nbformat_minor": 0,
  "metadata": {
    "colab": {
      "provenance": []
    },
    "kernelspec": {
      "name": "python3",
      "display_name": "Python 3"
    },
    "language_info": {
      "name": "python"
    }
  },
  "cells": [
    {
      "cell_type": "code",
      "execution_count": 2,
      "metadata": {
        "colab": {
          "base_uri": "https://localhost:8080/"
        },
        "id": "kazkZtHvauIg",
        "outputId": "7f589227-9fe2-4252-d0de-a3387f932049"
      },
      "outputs": [
        {
          "name": "stdout",
          "output_type": "stream",
          "text": [
            "Enter a news article: After Trump won United States elections, the stock market will grow up for a short period\n",
            "The news you entered is fake. Please try again.\n",
            "Enter a news article: After Trump won United States elections, the stock market grew up in USA\n",
            "The news you entered is fake. Please try again.\n",
            "Enter a news article: If Trump wins the US elecitons, the US market will grow\n",
            "The news you entered is fake. Please try again.\n",
            "Enter a news article: Trump promised he will end the Ukraine war if  he would win the presidential elections in US\n",
            "The news you entered is fake. Please try again.\n",
            "Enter a news article: The stocks market in US prices grew in last month\n",
            "The news is real and its sentiment is: positive\n",
            "Enter a stock ticker (e.g., MSFT, AAPL): AAPL\n"
          ]
        },
        {
          "output_type": "stream",
          "name": "stderr",
          "text": [
            "\r[*********************100%***********************]  1 of 1 completed"
          ]
        },
        {
          "output_type": "stream",
          "name": "stdout",
          "text": [
            "Predicted prices for AAPL over the next 5 days based on sentiment 'positive':\n",
            "Day 129: $[235.20358104]\n",
            "Day 130: $[235.43280794]\n",
            "Day 131: $[235.66203484]\n",
            "Day 132: $[235.89126174]\n",
            "Day 133: $[236.12048865]\n"
          ]
        },
        {
          "output_type": "stream",
          "name": "stderr",
          "text": [
            "\n"
          ]
        }
      ],
      "source": [
        "from transformers import pipeline, AutoTokenizer, AutoModelForSequenceClassification\n",
        "import yfinance as yf\n",
        "from sklearn.linear_model import LinearRegression\n",
        "import numpy as np\n",
        "import pandas as pd\n",
        "\n",
        "# Initialize the Fake News Detection model\n",
        "FAKE_NEWS_MODEL = \"jy46604790/Fake-News-Bert-Detect\"\n",
        "fake_news_clf = pipeline(\"text-classification\", model=FAKE_NEWS_MODEL, tokenizer=FAKE_NEWS_MODEL)\n",
        "\n",
        "# Initialize the Sentiment Analysis model (FinBERT)\n",
        "SENTIMENT_MODEL = \"ProsusAI/finbert\"\n",
        "sentiment_tokenizer = AutoTokenizer.from_pretrained(SENTIMENT_MODEL)\n",
        "sentiment_model = AutoModelForSequenceClassification.from_pretrained(SENTIMENT_MODEL)\n",
        "sentiment_clf = pipeline(\"text-classification\", model=sentiment_model, tokenizer=sentiment_tokenizer)\n",
        "\n",
        "# for validating news using the Fake News Detection model\n",
        "def check_fake_news(news_text):\n",
        "    result = fake_news_clf(news_text)\n",
        "    label = result[0]['label']  # LABEL_1 is Real, LABEL_0 is Fake\n",
        "    return label == 'LABEL_1'\n",
        "\n",
        "# for analyzing sentiment using the Sentiment Analysis model\n",
        "def analyze_sentiment(news_text):\n",
        "    sentiment_result = sentiment_clf(news_text)\n",
        "    return sentiment_result[0]['label']  # Returns the sentiment label\n",
        "\n",
        "# for fetching stock data and predict prices\n",
        "def predict_stock_prices(ticker, sentiment):\n",
        "    # Fetch historical data\n",
        "    stock_data = yf.download(ticker, period=\"6mo\", interval=\"1d\")\n",
        "    if stock_data.empty:\n",
        "        return None, None\n",
        "\n",
        "    # Prepare data for regression\n",
        "    stock_data['Days'] = np.arange(len(stock_data))\n",
        "    X = stock_data[['Days']]\n",
        "    y = stock_data['Close']\n",
        "\n",
        "    # Apply linear regression\n",
        "    model = LinearRegression()\n",
        "    model.fit(X, y)\n",
        "    future_days = np.array([len(stock_data) + i for i in range(1, 6)]).reshape(-1, 1)  # Predict next 5 days\n",
        "    predicted_prices = model.predict(future_days)\n",
        "\n",
        "    # Adjust predictions based on sentiment\n",
        "    adjustment_factor = 0.05  # 5% adjustment for sentiment\n",
        "    if sentiment == \"POSITIVE\":\n",
        "        predicted_prices *= (1 + adjustment_factor)\n",
        "    elif sentiment == \"NEGATIVE\":\n",
        "        predicted_prices *= (1 - adjustment_factor)\n",
        "\n",
        "    # Return original and adjusted predictions\n",
        "    return future_days.flatten(), predicted_prices\n",
        "\n",
        "\n",
        "def main():\n",
        "    while True:\n",
        "        # Input news text\n",
        "        news_text = input(\"Enter a news article: \")\n",
        "\n",
        "        # Check if the news is fake\n",
        "        is_real = check_fake_news(news_text)\n",
        "        if not is_real:\n",
        "            print(\"The news you entered is fake. Please try again.\")\n",
        "            continue  # Ask for input again if fake\n",
        "\n",
        "        # Analyze sentiment of the real news\n",
        "        sentiment = analyze_sentiment(news_text)\n",
        "        print(f\"The news is real and its sentiment is: {sentiment}\")\n",
        "\n",
        "        # Input stock ticker\n",
        "        ticker = input(\"Enter a stock ticker (e.g., MSFT, AAPL): \").upper()\n",
        "\n",
        "        # Predict stock prices\n",
        "        future_days, predicted_prices = predict_stock_prices(ticker, sentiment)\n",
        "        if future_days is None:\n",
        "            print(f\"Could not fetch data for ticker {ticker}. Please try another.\")\n",
        "            continue\n",
        "\n",
        "        # Display results\n",
        "        print(f\"Predicted prices for {ticker} over the next 5 days based on sentiment '{sentiment}':\")\n",
        "        for day, price in zip(future_days, predicted_prices):\n",
        "            print(f\"Day {int(day)}: ${price}\")\n",
        "\n",
        "        break  # exit after successful prediction\n",
        "\n",
        "if __name__ == \"__main__\":\n",
        "    main()\n"
      ]
    },
    {
      "cell_type": "code",
      "source": [],
      "metadata": {
        "id": "75Je_fHeeL9x"
      },
      "execution_count": null,
      "outputs": []
    }
  ]
}