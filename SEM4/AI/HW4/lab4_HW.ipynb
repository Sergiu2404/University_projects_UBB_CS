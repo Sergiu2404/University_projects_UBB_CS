{
 "cells": [
  {
   "cell_type": "code",
   "execution_count": 1,
   "id": "c2a1570a-d390-4bb9-a2dc-e2e6bc7568a1",
   "metadata": {},
   "outputs": [
    {
     "data": {
      "text/plain": [
       "False"
      ]
     },
     "execution_count": 1,
     "metadata": {},
     "output_type": "execute_result"
    }
   ],
   "source": [
    "import torch\n",
    "import matplotlib.pyplot as plt\n",
    "torch.cuda.is_available()"
   ]
  },
  {
   "cell_type": "code",
   "execution_count": 2,
   "id": "01af58c3-7a2d-4a56-9627-2c84f8cad7a4",
   "metadata": {},
   "outputs": [
    {
     "name": "stdout",
     "output_type": "stream",
     "text": [
      "tensor([2.], requires_grad=True)\n",
      "tensor([9.], grad_fn=<AddBackward0>)\n"
     ]
    },
    {
     "data": {
      "text/plain": [
       "tensor([6.])"
      ]
     },
     "execution_count": 2,
     "metadata": {},
     "output_type": "execute_result"
    }
   ],
   "source": [
    "x = torch.tensor([2.0], requires_grad=True)\n",
    "print(x)\n",
    "y = x ** 2 + 2 * x + 1\n",
    "print(y)\n",
    "y.backward()\n",
    "x.grad"
   ]
  },
  {
   "cell_type": "code",
   "execution_count": 3,
   "id": "27c5f944-aff4-4998-af1c-86fff724a87d",
   "metadata": {},
   "outputs": [
    {
     "name": "stdout",
     "output_type": "stream",
     "text": [
      "tensor([1., 1., 1.])\n"
     ]
    }
   ],
   "source": [
    "import torch\n",
    "\n",
    "# Create a tensor with requires_grad=True\n",
    "x = torch.tensor([1., 2., 3.], requires_grad=True)\n",
    "\n",
    "# Compute a function of x\n",
    "y = x.sum()\n",
    "\n",
    "# Compute gradients of y with respect to x\n",
    "y.backward()\n",
    "\n",
    "# Print gradients of x\n",
    "print(x.grad)"
   ]
  },
  {
   "cell_type": "code",
   "execution_count": 6,
   "id": "132918b6-22f5-40f2-b3a7-b2bd38b58e6f",
   "metadata": {},
   "outputs": [
    {
     "name": "stdout",
     "output_type": "stream",
     "text": [
      "tensor([0.5257], grad_fn=<SigmoidBackward0>)\n",
      "Epoch [100/1000], Loss: 0.4966\n",
      "Epoch [200/1000], Loss: 0.4875\n",
      "Epoch [300/1000], Loss: 0.4849\n",
      "Epoch [400/1000], Loss: 0.4835\n",
      "Epoch [500/1000], Loss: 0.4827\n",
      "Epoch [600/1000], Loss: 0.4822\n",
      "Epoch [700/1000], Loss: 0.4819\n",
      "Epoch [800/1000], Loss: 0.4818\n",
      "Epoch [900/1000], Loss: 0.4817\n",
      "Epoch [1000/1000], Loss: 0.4816\n"
     ]
    }
   ],
   "source": [
    "#PERCEPTRON\n",
    "#We define a class called *Perceptron* that inherits from *torch.nn.Module*. \n",
    "\n",
    "#In the constructor, we define a single fully-connected linear layer with $input_dim$ inputs and\n",
    "#$output_dim$ outputs, and a $sigmoid$ activation function. In the forward method, we apply the\n",
    "#linear transformation to the input $x$, and then apply the sigmoid activation function to the output.\n",
    "\n",
    "import torch\n",
    "import torch.nn as nn\n",
    "\n",
    "input_size = 2\n",
    "output_size = 1\n",
    "\n",
    "class Perceptron(torch.nn.Module):\n",
    "    def __init__(self, input_dim, output_dim):\n",
    "        super(Perceptron, self).__init__()\n",
    "        self.linear = torch.nn.Linear(input_dim, output_dim)\n",
    "        self.activation = torch.nn.Sigmoid()\n",
    "        \n",
    "    def forward(self, x):\n",
    "        x = self.linear(x)\n",
    "        x = self.activation(x)\n",
    "        return x\n",
    "\n",
    "\n",
    "\n",
    "\n",
    "perceptron = Perceptron(input_size, output_size)\n",
    "x = torch.tensor([0.5, 0.2])\n",
    "y = perceptron(x)\n",
    "print(y)\n",
    "\n",
    "\n",
    "\n",
    "# Define the loss function and optimizer\n",
    "criterion = nn.BCELoss()  # Binary cross-entropy loss\n",
    "optimizer = torch.optim.SGD(perceptron.parameters(), lr=0.1)  # Stochastic gradient descent optimizer\n",
    "\n",
    "# Generate some random input data and labels\n",
    "input_data = torch.randn((10, input_size))\n",
    "labels = torch.randint(0, 2, (10, output_size)).float()\n",
    "\n",
    "# Train the model\n",
    "num_epochs = 1000\n",
    "for epoch in range(num_epochs):\n",
    "    # Forward pass\n",
    "    outputs = perceptron(input_data)\n",
    "    loss = criterion(outputs, labels)\n",
    "\n",
    "    # Backward pass and optimization\n",
    "    optimizer.zero_grad()\n",
    "    loss.backward()\n",
    "    optimizer.step()\n",
    "\n",
    "    # Print the loss every 100 epochs\n",
    "    if (epoch + 1) % 100 == 0:\n",
    "        print(f'Epoch [{epoch+1}/{num_epochs}], Loss: {loss.item():.4f}')"
   ]
  },
  {
   "cell_type": "code",
   "execution_count": 6,
   "id": "3d11bdf7-4dbe-42c9-905d-87daa2ba7141",
   "metadata": {},
   "outputs": [
    {
     "name": "stdout",
     "output_type": "stream",
     "text": [
      "tensor([0.1966, 0.1050])\n",
      "tensor([0.1966, 0.1050], grad_fn=<MulBackward0>)\n"
     ]
    }
   ],
   "source": [
    "#EX1\n",
    "\n",
    "#Compute the gradient for the sigmoid activation function in 2 points using pytorch and \n",
    "#check it with the known explicit formula\n",
    "\n",
    "x = torch.tensor([1.0, 2.0], requires_grad=True)\n",
    "\n",
    "y = torch.sigmoid(x)\n",
    "y.sum().backward()\n",
    "grad_torch = x.grad\n",
    "print(grad_torch) \n",
    "\n",
    "y = 1 / (1 + torch.exp(-x))\n",
    "grad_formula = y * (1 - y)\n",
    "\n",
    "print(grad_formula)"
   ]
  },
  {
   "cell_type": "code",
   "execution_count": 7,
   "id": "6fa75931-f10a-4109-a9ef-70bf25d17ccd",
   "metadata": {},
   "outputs": [
    {
     "name": "stdout",
     "output_type": "stream",
     "text": [
      "tensor([1., 1.])\n",
      "tensor([1., 1.])\n"
     ]
    }
   ],
   "source": [
    "#EX2\n",
    "\n",
    "#Compute the gradient for the linear activation function in 2 points using pytorch and\n",
    "#check it with the known explicit formula\n",
    "\n",
    "x = torch.tensor([1.0, 2.0], requires_grad=True)\n",
    "\n",
    "y = x\n",
    "y.sum().backward()\n",
    "grad_torch = x.grad\n",
    "print(grad_torch) \n",
    "\n",
    "grad_formula = torch.ones_like(x)\n",
    "print(grad_formula)"
   ]
  },
  {
   "cell_type": "code",
   "execution_count": 8,
   "id": "26c8b49c-d783-4795-929d-f56b1d19325b",
   "metadata": {},
   "outputs": [
    {
     "name": "stdout",
     "output_type": "stream",
     "text": [
      "tensor([1.0000, 0.0000, 0.5000])\n",
      "tensor([1.0000, 0.0000, 0.5000])\n"
     ]
    }
   ],
   "source": [
    "#EX3\n",
    "\n",
    "#Compute the gradient for the relu activation function in 2 points using pytorch and check\n",
    "#it with the known explicit formula.\n",
    "\n",
    "x = torch.tensor([2.0, -1.5, 0], requires_grad=True)\n",
    "\n",
    "y = torch.max(torch.zeros_like(x), x)\n",
    "y.sum().backward()\n",
    "grad_torch = x.grad\n",
    "print(grad_torch)\n",
    "\n",
    "grad_formula = torch.where(x > 0, 1.0, 0.0)\n",
    "grad_formula[x == 0] = 0.5\n",
    "print(grad_formula)\n"
   ]
  },
  {
   "cell_type": "code",
   "execution_count": 19,
   "id": "012159c2-91f1-41a5-b730-95037d25abc6",
   "metadata": {},
   "outputs": [
    {
     "data": {
      "image/png": "[encoded data removed]",
      "text/plain": [
       "<Figure size 1000x500 with 1 Axes>"
      ]
     },
     "metadata": {},
     "output_type": "display_data"
    }
   ],
   "source": [
    "#EX4\n",
    "\n",
    "#Write in python a function to plot the sigmoid activation function and its gradient using\n",
    "#matplotlib\n",
    "\n",
    "import numpy as np\n",
    "import matplotlib.pyplot as plt\n",
    "\n",
    "def sigmoid(x):\n",
    "    return 1 / (1 + np.exp(-x))\n",
    "\n",
    "def sigmoid_grad(x):\n",
    "    return sigmoid(x) * (1 - sigmoid(x))\n",
    "\n",
    "def plot_sigmoid():\n",
    "    x = np.linspace(-5, 5, 100)\n",
    "    y = sigmoid(x)\n",
    "    y_grad = sigmoid_grad(x)\n",
    "    \n",
    "    fig, ax = plt.subplots(nrows=1, ncols=1, figsize=(10, 5))\n",
    "    ax.plot(x, y, 'black', label='function')\n",
    "    ax.plot(x, y_grad, 'red', label='function gradient')\n",
    "    ax.set_xlabel('x')\n",
    "    plt.legend()\n",
    "    plt.show()\n",
    "\n",
    "plot_sigmoid()\n",
    "\n"
   ]
  },
  {
   "cell_type": "code",
   "execution_count": 20,
   "id": "e18376d0-6585-4af4-bc5f-e49d0181f590",
   "metadata": {},
   "outputs": [
    {
     "data": {
      "image/png": "[encoded data removed]",
      "text/plain": [
       "<Figure size 1000x500 with 1 Axes>"
      ]
     },
     "metadata": {},
     "output_type": "display_data"
    }
   ],
   "source": [
    "#EX5 \n",
    "#Write in python a function to plot the ReLU activation function and its gradient using\n",
    "#matplotlib.\n",
    "\n",
    "import torch\n",
    "import matplotlib.pyplot as plt\n",
    "\n",
    "def relu(x):\n",
    "    return torch.maximum(torch.tensor(0), x)\n",
    "\n",
    "def relu_grad(x):\n",
    "    return torch.where(x > 0, torch.tensor(1), torch.tensor(0))\n",
    "\n",
    "def plot_relu():\n",
    "    x = torch.linspace(-5, 5, 100)\n",
    "    y = relu(x)\n",
    "    y_grad = relu_grad(x)\n",
    "\n",
    "    fig, ax = plt.subplots(nrows=1, ncols=1, figsize=(10, 5))\n",
    "    ax.plot(x, y, 'red', label='function')\n",
    "    ax.plot(x, y_grad, 'black', label='function gradient')\n",
    "    ax.set_xlabel('x')\n",
    "    plt.legend()\n",
    "    plt.show()\n",
    "\n",
    "plot_relu()\n"
   ]
  },
  {
   "cell_type": "code",
   "execution_count": null,
   "id": "46bd1ab0-6eb4-47bd-ad11-2c232acabf6b",
   "metadata": {},
   "outputs": [],
   "source": [
    "#EX 6\n",
    "\n",
    "#Write in python a function to plot the tanh activation function and its gradient\n",
    "#using matplotlib.\n",
    "\n",
    "import torch\n",
    "import matplotlib.pyplot as plt\n",
    "\n",
    "def tanh(x):\n",
    "    return torch.tanh(x)\n",
    "\n",
    "def tanh_grad(x):\n",
    "    return 1 - torch.square(torch.tanh(x))\n",
    "\n",
    "def plot_tanh():\n",
    "    x = torch.linspace(-10, 10, 100)\n",
    "    y = tanh(x)\n",
    "    y_grad = tanh_grad(x)\n",
    "\n",
    "    fig, ax = plt.subplots(nrows=1, ncols=1, figsize=(10, 5))\n",
    "    ax.plot(x, y, 'black', label='function')\n",
    "    ax.plot(x, y_grad, 'red', label='function gradient')\n",
    "    ax.set_xlabel('x')\n",
    "    plt.legend()\n",
    "    plt.show()\n",
    "\n",
    "plot_tanh()\n"
   ]
  },
  {
   "cell_type": "code",
   "execution_count": null,
   "id": "f67ab98e-fd7b-42cb-9e0e-e993e96e39ec",
   "metadata": {},
   "outputs": [],
   "source": [
    "#EX 7\n",
    "\n",
    "#Write in python a function to plot the leaky ReLU activation function and its gradient\n",
    "#using matplotlib.\n",
    "\n",
    "import torch\n",
    "import matplotlib.pyplot as plt\n",
    "\n",
    "def leaky_relu(x, alpha=0.1):\n",
    "    return torch.maximum(alpha * x, x)\n",
    "\n",
    "def leaky_relu_grad(x, alpha=0.1):\n",
    "    return torch.where(x > 0, 1, alpha)\n",
    "\n",
    "def plot_leaky_relu():\n",
    "    x = torch.linspace(-10, 10, 100)\n",
    "    y = leaky_relu(x)\n",
    "    y_grad = leaky_relu_grad(x)\n",
    "\n",
    "    fig, ax = plt.subplots(nrows=1, ncols=1, figsize=(10, 5))\n",
    "    ax.plot(x, y, 'black', label='function')\n",
    "    ax.plot(x, y_grad, 'red', label='function gradient')\n",
    "    ax.set_xlabel('x')\n",
    "    plt.legend()\n",
    "    plt.show()\n",
    "\n",
    "plot_leaky_relu()\n"
   ]
  },
  {
   "cell_type": "code",
   "execution_count": 9,
   "id": "e33806c7-06af-4dab-88a9-2c03ddcad2df",
   "metadata": {},
   "outputs": [
    {
     "name": "stdout",
     "output_type": "stream",
     "text": [
      "tensor([0.3462], grad_fn=<SigmoidBackward0>)\n",
      "Epoch [100/1000], Loss: 0.3216\n",
      "Epoch [200/1000], Loss: 0.2389\n",
      "Epoch [300/1000], Loss: 0.2023\n",
      "Epoch [400/1000], Loss: 0.1792\n",
      "Epoch [500/1000], Loss: 0.1622\n",
      "Epoch [600/1000], Loss: 0.1488\n",
      "Epoch [700/1000], Loss: 0.1377\n",
      "Epoch [800/1000], Loss: 0.1284\n",
      "Epoch [900/1000], Loss: 0.1203\n",
      "Epoch [1000/1000], Loss: 0.1132\n"
     ]
    }
   ],
   "source": [
    "#  NOT HW\n",
    "\n",
    "\n",
    "import torch\n",
    "import torch.nn as nn\n",
    "\n",
    "input_size = 2\n",
    "output_size = 1\n",
    "\n",
    "class Perceptron(torch.nn.Module):\n",
    "    def __init__(self, input_dim, output_dim):\n",
    "        super(Perceptron, self).__init__()\n",
    "        self.linear = torch.nn.Linear(input_dim, output_dim)\n",
    "        self.activation = torch.nn.Sigmoid()\n",
    "        \n",
    "    def forward(self, x):\n",
    "        x = self.linear(x)\n",
    "        x = self.activation(x)\n",
    "        return x\n",
    "\n",
    "\n",
    "\n",
    "perceptron = Perceptron(input_size, output_size)\n",
    "x = torch.tensor([0.5, 0.2])\n",
    "y = perceptron(x)\n",
    "print(y)\n",
    "\n",
    "\n",
    "\n",
    "\n",
    "\n",
    "criterion = nn.BCELoss() \n",
    "optimizer = torch.optim.SGD(perceptron.parameters(), lr=0.1)  # Stochastic gradient descent optimizer\n",
    "\n",
    "\n",
    "input_data = torch.randn((10, input_size))\n",
    "labels = torch.randint(0, 2, (10, output_size)).float()\n",
    "\n",
    "\n",
    "num_epochs = 1000\n",
    "for epoch in range(num_epochs):\n",
    "    outputs = perceptron(input_data)\n",
    "    loss = criterion(outputs, labels)\n",
    "\n",
    "\n",
    "    optimizer.zero_grad()\n",
    "    loss.backward()\n",
    "    optimizer.step()\n",
    "\n",
    "    if (epoch + 1) % 100 == 0:\n",
    "        print(f'Epoch [{epoch+1}/{num_epochs}], Loss: {loss.item():.4f}')\n"
   ]
  },
  {
   "cell_type": "code",
   "execution_count": 5,
   "id": "2f988e74-e27e-4b19-9341-9d7c765f7be6",
   "metadata": {
    "scrolled": true
   },
   "outputs": [
    {
     "name": "stdout",
     "output_type": "stream",
     "text": [
      "Epoch [100/5000], Loss: 0.3446\n",
      "Epoch [200/5000], Loss: 0.2678\n",
      "Epoch [300/5000], Loss: 0.2178\n",
      "Epoch [400/5000], Loss: 0.1827\n",
      "Epoch [500/5000], Loss: 0.1568\n",
      "Epoch [600/5000], Loss: 0.1371\n",
      "Epoch [700/5000], Loss: 0.1215\n",
      "Epoch [800/5000], Loss: 0.1089\n",
      "Epoch [900/5000], Loss: 0.0986\n",
      "Epoch [1000/5000], Loss: 0.0900\n",
      "Epoch [1100/5000], Loss: 0.0827\n",
      "Epoch [1200/5000], Loss: 0.0764\n",
      "Epoch [1300/5000], Loss: 0.0710\n",
      "Epoch [1400/5000], Loss: 0.0663\n",
      "Epoch [1500/5000], Loss: 0.0621\n",
      "Epoch [1600/5000], Loss: 0.0585\n",
      "Epoch [1700/5000], Loss: 0.0552\n",
      "Epoch [1800/5000], Loss: 0.0522\n",
      "Epoch [1900/5000], Loss: 0.0496\n",
      "Epoch [2000/5000], Loss: 0.0472\n",
      "Epoch [2100/5000], Loss: 0.0450\n",
      "Epoch [2200/5000], Loss: 0.0430\n",
      "Epoch [2300/5000], Loss: 0.0411\n",
      "Epoch [2400/5000], Loss: 0.0394\n",
      "Epoch [2500/5000], Loss: 0.0379\n",
      "Epoch [2600/5000], Loss: 0.0364\n",
      "Epoch [2700/5000], Loss: 0.0351\n",
      "Epoch [2800/5000], Loss: 0.0338\n",
      "Epoch [2900/5000], Loss: 0.0327\n",
      "Epoch [3000/5000], Loss: 0.0316\n",
      "Epoch [3100/5000], Loss: 0.0305\n",
      "Epoch [3200/5000], Loss: 0.0296\n",
      "Epoch [3300/5000], Loss: 0.0287\n",
      "Epoch [3400/5000], Loss: 0.0278\n",
      "Epoch [3500/5000], Loss: 0.0270\n",
      "Epoch [3600/5000], Loss: 0.0263\n",
      "Epoch [3700/5000], Loss: 0.0256\n",
      "Epoch [3800/5000], Loss: 0.0249\n",
      "Epoch [3900/5000], Loss: 0.0242\n",
      "Epoch [4000/5000], Loss: 0.0236\n",
      "Epoch [4100/5000], Loss: 0.0230\n",
      "Epoch [4200/5000], Loss: 0.0225\n",
      "Epoch [4300/5000], Loss: 0.0220\n",
      "Epoch [4400/5000], Loss: 0.0215\n",
      "Epoch [4500/5000], Loss: 0.0210\n",
      "Epoch [4600/5000], Loss: 0.0205\n",
      "Epoch [4700/5000], Loss: 0.0201\n",
      "Epoch [4800/5000], Loss: 0.0196\n",
      "Epoch [4900/5000], Loss: 0.0192\n",
      "Epoch [5000/5000], Loss: 0.0188\n"
     ]
    }
   ],
   "source": [
    "#EX 8\n",
    "\n",
    "#Implement a binary classification model using the Perceptron class in PyTorch for the logic OR.\n",
    "\n",
    "#Your task is to create a Perceptron instance and train it using a proper dataset and the binary\n",
    "#cross-entropy loss with stochastic gradient descent optimizer.\n",
    "\n",
    "#Here are the steps you can follow:\n",
    "\n",
    "#Define a Perceptron class that inherits from torch.nn.Module and implements a binary\n",
    "#classification model.\n",
    "\n",
    "#Define a binary cross-entropy loss function using the torch.nn.BCEWithLogitsLoss module.\n",
    "\n",
    "#Define a stochastic gradient descent optimizer using the torch.optim.SGD module.\n",
    "\n",
    "#Train the Perceptron model on the training set using the binary cross-entropy loss and\n",
    "#stochastic gradient descent optimizer.\n",
    "\n",
    "#Evaluate the trained model compute the accuracy.\n",
    "\n",
    "\n",
    "\n",
    "\n",
    "\n",
    "import torch\n",
    "import torch.nn as nn\n",
    "import torch.optim as optim\n",
    "\n",
    "\n",
    "class Perceptron(nn.Module):\n",
    "    def __init__(self, input_dim):\n",
    "        super(Perceptron, self).__init__()\n",
    "        self.linear = nn.Linear(input_dim, 1)\n",
    "        self.activation = nn.Sigmoid()\n",
    "\n",
    "    def forward(self, x):\n",
    "        x = self.linear(x)\n",
    "        x = self.activation(x)\n",
    "        return x\n",
    "\n",
    "\n",
    "#dataset for OR\n",
    "input_data = torch.tensor([[0, 0], [0, 1], [1, 0], [1, 1]], dtype=torch.float32)\n",
    "labels = torch.tensor([[0], [1], [1], [1]], dtype=torch.float32)\n",
    "\n",
    "# Hyperparameters\n",
    "input_size = 2\n",
    "learning_rate = 0.1\n",
    "num_epochs = 5000\n",
    "\n",
    "\n",
    "perceptron = Perceptron(input_size)\n",
    "criterion = nn.BCELoss()\n",
    "optimizer = optim.SGD(perceptron.parameters(), lr=learning_rate)\n",
    "\n",
    "# Training loop\n",
    "for epoch in range(num_epochs):\n",
    "    outputs = perceptron(input_data)\n",
    "    loss = criterion(outputs, labels)\n",
    "\n",
    "    optimizer.zero_grad()\n",
    "    loss.backward()\n",
    "    optimizer.step()\n",
    "\n",
    "    if (epoch + 1) % 100 == 0:\n",
    "        print(f'Epoch [{epoch+1}/{num_epochs}], Loss: {loss.item():.4f}')\n",
    "\n",
    "\n",
    "with torch.no_grad():\n",
    "    predicted = perceptron(input_data)\n",
    "    predicted = torch.round(predicted)\n",
    "    correct = (predicted == labels).sum().item()\n",
    "    accuracy = correct / labels.size(0) * 100.0"
   ]
  },
  {
   "cell_type": "code",
   "execution_count": null,
   "id": "2db7bedb-e2a5-4c0f-897c-a91e9965e1a2",
   "metadata": {},
   "outputs": [],
   "source": []
  }
 ],
 "metadata": {
  "kernelspec": {
   "display_name": "Python 3 (ipykernel)",
   "language": "python",
   "name": "python3"
  },
  "language_info": {
   "codemirror_mode": {
    "name": "ipython",
    "version": 3
   },
   "file_extension": ".py",
   "mimetype": "text/x-python",
   "name": "python",
   "nbconvert_exporter": "python",
   "pygments_lexer": "ipython3",
   "version": "3.11.8"
  }
 },
 "nbformat": 4,
 "nbformat_minor": 5
}
